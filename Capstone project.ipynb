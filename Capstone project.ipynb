{
    "nbformat_minor": 1, 
    "metadata": {
        "language_info": {
            "nbconvert_exporter": "python", 
            "codemirror_mode": {
                "name": "ipython", 
                "version": 3
            }, 
            "pygments_lexer": "ipython3", 
            "name": "python", 
            "file_extension": ".py", 
            "version": "3.5.4", 
            "mimetype": "text/x-python"
        }, 
        "kernelspec": {
            "language": "python3", 
            "name": "python3", 
            "display_name": "Python 3.5 with Spark"
        }
    }, 
    "nbformat": 4, 
    "cells": [
        {
            "source": "<h1> Capstone Data Science Project </h1>", 
            "metadata": {
                "collapsed": true
            }, 
            "cell_type": "markdown"
        }, 
        {
            "execution_count": 4, 
            "metadata": {}, 
            "source": "import pandas as pd\nimport numpy as np\n\nprint(\"Hello Capstone Project Course!\")", 
            "outputs": [
                {
                    "name": "stdout", 
                    "output_type": "stream", 
                    "text": "Hello Capstone Project Course!\n"
                }
            ], 
            "cell_type": "code"
        }
    ]
}